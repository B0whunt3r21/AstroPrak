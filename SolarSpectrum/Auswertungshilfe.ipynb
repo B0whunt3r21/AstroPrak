{
 "cells": [
  {
   "cell_type": "markdown",
   "metadata": {
    "editable": false,
    "slideshow": {
     "slide_type": ""
    },
    "tags": []
   },
   "source": [
    "# Auswertungshilfe\n",
    "\n",
    "Im Folgenden finden Sie Rezepte und kurze Anleitungen, die Ihnen bei der Auswertung der Daten helfen sollen. Sie können jedes beliebige Tool für die Auswertung verwenden, solange Sie zu einem brauchbaren Ergebnis kommen. Stark empfohlen wird die Verwendung von Python-Skripten.\n",
    "\n",
    "\n",
    "## 1. Einlesen und Korrektur\n",
    "\n",
    "Korrektur der Aufnahmen mittels der gewonnenen Bias-, Dark- und Flat-Aufnahmen (siehe bereitgestelltes PDF in Moodle). Hierfür können Python-Funktionen verwendet werden. Beispiele von einfachen Operationen, siehe auch die [Astropy Dokumentation](https://docs.astropy.org/en/stable/io/fits/).\n",
    "\n",
    "Bias, Dark und Flat Korrektur werden an die Science Frames wie folgt angewandt:\n",
    "\n",
    "$$\n",
    "\\mathrm{science frame} = \\frac{\\mathrm{raw science frame}- \\mathrm{master dark} - \\mathrm{master bias}}{\\mathrm{master flat} /  \\langle\\mathrm{master flat}\\rangle }\n",
    "$$"
   ]
  },
  {
   "cell_type": "code",
   "execution_count": 43,
   "metadata": {},
   "outputs": [],
   "source": [
    "import numpy as np\n",
    "import matplotlib.pyplot as plt\n",
    "%matplotlib inline\n",
    "from astropy.io import fits\n",
    "import os\n",
    "import pandas as pd\n",
    "\n",
    "ROOT = os.path.dirname(os.path.realpath(\"__file__\"))\n",
    "PATH = '/Gruppe8/'\n"
   ]
  },
  {
   "cell_type": "code",
   "execution_count": 44,
   "metadata": {},
   "outputs": [],
   "source": [
    "#Fetch Data-Files\n",
    "files = [file for file in os.listdir(ROOT+PATH) if file.endswith('fit')]\n",
    "\n",
    "#Split Filenames for Sorting and def Sorting-Frame\n",
    "tempArr = []\n",
    "for file in files:\n",
    "    nr = file.split('_')[0]\n",
    "    if file.endswith('fit') == True:\n",
    "        tempArr.append(int(nr))\n",
    "    else:\n",
    "        tempArr.append(None)\n",
    "\n",
    "#Lookup DF Nr-File\n",
    "fileFrame = pd.DataFrame({'Nr': tempArr, 'Files': files})\n",
    "fileFrame.sort_values(['Nr', 'Files'], inplace=True)\n",
    "\n",
    "#Fetch Data\n",
    "def openFit(fileName):\n",
    "    with fits.open(ROOT+PATH+fileName) as fit:\n",
    "        data = fit[0].data.flatten()\n",
    "    return data\n",
    "\n",
    "#Extract Header and Data from Files and prep plotable axis\n",
    "Flats = pd.DataFrame(columns=['Nr', 'Flat'])\n",
    "Darks = pd.DataFrame(columns=['Nr', 'Dark'])\n",
    "Biases = pd.DataFrame(columns=['Nr', 'Bias'])\n",
    "SunThAr = pd.DataFrame(columns=['Nr', 'Spectra'])\n",
    "Filters = pd.DataFrame(columns=['Nr', 'Filter'])\n",
    "\n",
    "#Sort Dark, Bias and Flat Files\n",
    "for idx, row in fileFrame.iterrows():\n",
    "    nr = row['Nr']\n",
    "    fileName = row['Files']\n",
    "    fitData = openFit(fileName)\n",
    "\n",
    "    if fileName.find('bias') != -1:\n",
    "        Biases.loc[len(Biases)] = [nr, fitData]\n",
    "\n",
    "    elif fileName.find('dark') != -1:\n",
    "        Darks.loc[len(Darks)] = [nr, fitData]\n",
    "\n",
    "    elif fileName.find('flat') != -1:\n",
    "        Flats.loc[len(Flats)] = [nr, fitData]\n",
    "\n",
    "    elif fileName.find('Sun_ThAr') != -1:\n",
    "        SunThAr.loc[len(SunThAr)] = [nr, fitData]\n",
    "\n",
    "    else:\n",
    "        Filters.loc[len(Filters)] = [nr, fitData]\n",
    "\n",
    "\n"
   ]
  },
  {
   "cell_type": "markdown",
   "metadata": {
    "editable": false,
    "slideshow": {
     "slide_type": ""
    },
    "tags": []
   },
   "source": [
    "## 2. Stacken, Extrahieren 1D Spektrum\n",
    "\n",
    "Erstellung von gemittelten Aufnahmen zur Verbesserung des Signals und zum Zweck der Verwerfung von Ausreißern (z.B. Cosmics)."
   ]
  },
  {
   "cell_type": "code",
   "execution_count": 45,
   "metadata": {},
   "outputs": [],
   "source": [
    "#Image Stacking\n",
    "biasFrame = np.median(np.array(Biases['Bias'].tolist()), axis=0)\n",
    "darkFrame = np.median(np.array(Darks['Dark'].tolist()), axis=0)\n",
    "flatFrame = np.median(np.array(Flats['Flat'].tolist()), axis=0)\n",
    "sunThArFrame = np.median(np.array(SunThAr['Spectra'].tolist()), axis=0)\n",
    "\n",
    "#Filters in dataFrame Filters (No Stacking)\n",
    "\n"
   ]
  },
  {
   "cell_type": "markdown",
   "metadata": {
    "editable": false,
    "slideshow": {
     "slide_type": ""
    },
    "tags": []
   },
   "source": [
    "Extraktion eines 1-dimensionalen Spektrums: Von den kalibrierten Aufnahmen kann ein 1-dimensionales Spektrum extrahiert werden, indem ein Rechteck an der passenden Stelle ausgeschnitten wird. Darauf folgend berechnet man den Median entlang einer Pixelsäule."
   ]
  },
  {
   "cell_type": "code",
   "execution_count": 46,
   "metadata": {},
   "outputs": [
    {
     "ename": "NameError",
     "evalue": "name 'data' is not defined",
     "output_type": "error",
     "traceback": [
      "\u001b[1;31m---------------------------------------------------------------------------\u001b[0m",
      "\u001b[1;31mNameError\u001b[0m                                 Traceback (most recent call last)",
      "Cell \u001b[1;32mIn[46], line 3\u001b[0m\n\u001b[0;32m      1\u001b[0m \u001b[38;5;66;03m# Ausschneiden eines Rechtecks, basierend auf Pixelkoordinaten\u001b[39;00m\n\u001b[0;32m      2\u001b[0m \u001b[38;5;66;03m# Achten Sie auf die richtige Reihenfolge der x/y-Koordinaten!\u001b[39;00m\n\u001b[1;32m----> 3\u001b[0m data_cutout \u001b[38;5;241m=\u001b[39m \u001b[43mdata\u001b[49m[\u001b[38;5;241m100\u001b[39m:\u001b[38;5;241m250\u001b[39m, \u001b[38;5;241m300\u001b[39m:\u001b[38;5;241m320\u001b[39m]\n\u001b[0;32m      5\u001b[0m \u001b[38;5;66;03m# Alternativ entlang der gesamten x-Achse\u001b[39;00m\n\u001b[0;32m      6\u001b[0m data_cutout \u001b[38;5;241m=\u001b[39m data[\u001b[38;5;241m100\u001b[39m:\u001b[38;5;241m250\u001b[39m, :]\n",
      "\u001b[1;31mNameError\u001b[0m: name 'data' is not defined"
     ]
    }
   ],
   "source": [
    "# Ausschneiden eines Rechtecks, basierend auf Pixelkoordinaten\n",
    "# Achten Sie auf die richtige Reihenfolge der x/y-Koordinaten!\n",
    "data_cutout = data[100:250, 300:320]\n",
    "\n",
    "# Alternativ entlang der gesamten x-Achse\n",
    "data_cutout = data[100:250, :]\n",
    "\n",
    "# Median entlang des Spalts für alle Pixel in Dispersionsrichtung\n",
    "spectrum_flat = np.nanmedian(data_cutout, axis=0)\n",
    "\n",
    "# Speichern als FITS-Tabelle\n",
    "from astropy.table import Table\n",
    "table = Table(data=[np.arange(len(spectrum_flat)), spectrum_flat], names=[\"Pixel\", \"Flux (ADU)\"])\n",
    "table.write(\"/path/to/table.fits\")"
   ]
  },
  {
   "cell_type": "markdown",
   "metadata": {
    "editable": false,
    "slideshow": {
     "slide_type": ""
    },
    "tags": []
   },
   "source": [
    "## 3. Kombinierte Flat Korrektur\n",
    "\n",
    "Idee: Das Flat das durch den Spektrographen aufgenommen wird enthält das Black-Body Spektrum der Tischlampe. Um dieses auszukorrigieren, nehmen wir ein zusätzliches Flat auf, das bereits korrigiert ist (Silva-Nova Spektrometer), durch welches das Spektrograph Flat dividiert werden soll. \n",
    "\n",
    "Dafür ist zu beachten dass das Wellenlängen-sampling der beiden Flats anders ist. Kontrollieren Sie nach in welchen Wellenlängbereichen die beiden Flats aufgenommen wurden. \n",
    "\n",
    "Tip: Mit Interpolieren (zB `interp1d`) kann man das erwünschte sampling für das Nova Spektrometer erhalten."
   ]
  },
  {
   "cell_type": "markdown",
   "metadata": {
    "editable": false,
    "slideshow": {
     "slide_type": ""
    },
    "tags": []
   },
   "source": [
    "## 4. Wellenlängekalibration\n",
    "Identifikation der ThAr-Linien. Zur Identifikation der Linien soll der beigelegte Linienatlas verwendet werden. Beachten Sie, dass das aufgenommene Spektrum Wellenlängen von 4200 bis 5500 abdeckt.\n",
    "\n",
    "Für das finden der peaks kann zB von `scipy.signal` die funktion `find_peaks`verwendet werden.\n"
   ]
  },
  {
   "cell_type": "markdown",
   "metadata": {
    "editable": false,
    "slideshow": {
     "slide_type": ""
    },
    "tags": []
   },
   "source": [
    "Erstellung einer Wellenlängenkalibration auf Basis der identifizierten Linien. Hierfür erstellen Sie einen Fit zwischen Pixelkoordinaten und Wellenlänge der identifizierten Linien. Sie können hierfür numpy verwenden"
   ]
  },
  {
   "cell_type": "code",
   "execution_count": null,
   "metadata": {},
   "outputs": [],
   "source": [
    "# Fit zwischen Pixel und Wellenlänge mittels Polynom 2. Ordnung\n",
    "coeff = np.polynomial.Polynomial.fit(pixel, wavelength, 2)"
   ]
  },
  {
   "cell_type": "markdown",
   "metadata": {
    "editable": false,
    "slideshow": {
     "slide_type": ""
    },
    "tags": []
   },
   "source": [
    "Die so erstellte Interpolation kann nun verwendet werden, um die Wellenlängenkalibration auf das Sonnenspektrum anzuwenden."
   ]
  },
  {
   "cell_type": "markdown",
   "metadata": {
    "editable": false,
    "slideshow": {
     "slide_type": ""
    },
    "tags": []
   },
   "source": [
    "## 5. Spektrale Auflösung\n",
    "\n",
    "Bestimmung der spektralen Auflösung aus der Breite der ThAr-Linien. Die Auflösung eines Spektrographen ist definiert durch\n",
    "$$\n",
    "        R \\equiv \\frac{\\lambda}{\\Delta \\lambda},\n",
    "$$\n",
    "wobei hier R die Auflösung des Spektrographen darstellt, $\\lambda$ die beobachtete Wellenlänge und $\\Delta \\lambda$ den kleinsten Unterschied in der Wellenlänge, den der Spektrograph auflösen kann. In der Praxis kann man für $\\Delta \\lambda$ die Full Width Half Maximum (FWHM) einer Linie bestimmen."
   ]
  },
  {
   "cell_type": "markdown",
   "metadata": {
    "editable": false,
    "slideshow": {
     "slide_type": ""
    },
    "tags": []
   },
   "source": [
    "## 6. Signal-to-Noise Ratio\n",
    "\n",
    "Abschätzung des Signal-Rausch-Verhältnisses (S/N) des Sonnenspektrums. Das S/N bei Spektren ist wegen unterschiedlicher Linienstärke wellenlängenabhängig. Die Angabe eines einzelnen S/N-Wertes für ein gesamtes Spektrum ist daher meistens nicht aussagekräftig. Zur Vereinfachung nehmen Sie an, dass die dominierende Rauschkomponente das Signal selbst ist, d.h. das Rauschen folgt einer Poissonverteilung nur abhängig vom Signal (den Gain der Kamera finden Sie im FITS-Header)."
   ]
  },
  {
   "cell_type": "code",
   "execution_count": null,
   "metadata": {},
   "outputs": [],
   "source": []
  }
 ],
 "metadata": {
  "kernelspec": {
   "display_name": "Python 3",
   "language": "python",
   "name": "python3"
  },
  "language_info": {
   "codemirror_mode": {
    "name": "ipython",
    "version": 3
   },
   "file_extension": ".py",
   "mimetype": "text/x-python",
   "name": "python",
   "nbconvert_exporter": "python",
   "pygments_lexer": "ipython3",
   "version": "3.12.7"
  }
 },
 "nbformat": 4,
 "nbformat_minor": 4
}
