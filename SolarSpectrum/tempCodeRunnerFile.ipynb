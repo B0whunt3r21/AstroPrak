# Shift the Sun spectrum to ensure positive values
sunSpect_shifted = sunSpect_corrected - np.min(sunSpect_corrected)

# Known solar absorption lines (in Ångström)
sun_lines = np.array([4305, 4327, 4340, 4384, 4457, 4667, 4861, 5167, 5268])

# Ensure sun_lines are within the calibrated wavelength range
wave_min = np.min(y_fit_3)
wave_max = np.max(y_fit_3)
if np.any(sun_lines < wave_min) or np.any(sun_lines > wave_max):
    raise ValueError("Some sun lines are outside the calibrated wavelength range.")

# Map wavelengths to pixel positions using the inverse polynomial
sun_pixels = coeff_3(sun_lines)

# --- Visualization of Mapped Sun Lines ---
plt.figure(figsize=(10, 6))
plt.plot(y_fit_3, sunSpect_shifted, label='Sun Spectrum')
plt.scatter(sun_pixels, sunSpect_shifted[sun_pixels.astype(int)], color='red', marker='x', label='Mapped Sun Lines')
plt.xlabel('Wavelength (Å)')
plt.ylabel('Flux (ADU)')
plt.title('Sun Spectrum with Mapped Sun Lines')
plt.legend()
plt.show()